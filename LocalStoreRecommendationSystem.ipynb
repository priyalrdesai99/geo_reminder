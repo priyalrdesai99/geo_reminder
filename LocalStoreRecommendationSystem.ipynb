{
  "nbformat": 4,
  "nbformat_minor": 0,
  "metadata": {
    "colab": {
      "provenance": [],
      "collapsed_sections": [
        "7dzfbm7tw1YJ"
      ],
      "gpuType": "T4"
    },
    "kernelspec": {
      "name": "python3",
      "display_name": "Python 3"
    },
    "language_info": {
      "name": "python"
    },
    "accelerator": "GPU",
    "gpuClass": "standard"
  },
  "cells": [
    {
      "cell_type": "markdown",
      "source": [
        "#Stores Recommendation System"
      ],
      "metadata": {
        "id": "EdILuyLgml_R"
      }
    },
    {
      "cell_type": "markdown",
      "source": [
        "##Importing libraries"
      ],
      "metadata": {
        "id": "m-26iTTympFi"
      }
    },
    {
      "cell_type": "code",
      "source": [
        "# Suppressing warnings for cleaner output\n",
        "import warnings\n",
        "warnings.simplefilter(action='ignore', category=FutureWarning)\n",
        "\n",
        "# Importing essential data handling libraries\n",
        "import pandas as pd\n",
        "import numpy as np\n",
        "\n",
        "# Importing visualization tools\n",
        "import matplotlib.pyplot as plt\n",
        "import seaborn as sns\n",
        "\n",
        "# Machine learning utilities\n",
        "from sklearn.metrics import mean_squared_error\n",
        "from sklearn.metrics.pairwise import cosine_similarity\n",
        "\n",
        "# Set the aesthetic style of the plots\n",
        "sns.set_style(\"whitegrid\")"
      ],
      "metadata": {
        "id": "2tSOMad1mlsK"
      },
      "execution_count": null,
      "outputs": []
    },
    {
      "cell_type": "markdown",
      "source": [
        "## Importing Dataset"
      ],
      "metadata": {
        "id": "_eRqhkyAmvFJ"
      }
    },
    {
      "cell_type": "code",
      "execution_count": null,
      "metadata": {
        "id": "mnM0NIFemhh0"
      },
      "outputs": [],
      "source": [
        "# Loading the dataset\n",
        "import pandas as pd\n",
        "\n",
        "# Path to the dataset\n",
        "file_path = '/content/drive/MyDrive/ratings_stores.csv'\n",
        "\n",
        "# Reading the data without headers\n",
        "store_ratings = pd.read_csv(file_path, header=None)\n",
        "\n",
        "# Assigning new column labels\n",
        "store_ratings.columns = ['UserID', 'StoreID', 'Rating', 'Timestamp']\n",
        "\n",
        "# Removing the Timestamp column as it's not needed for our analysis\n",
        "store_ratings.drop(columns=['Timestamp'], inplace=True)\n",
        "\n",
        "# Creating a backup of the DataFrame for further use\n",
        "ratings_backup = store_ratings.copy()"
      ]
    },
    {
      "cell_type": "markdown",
      "source": [
        "## Exploratory Data Analysis Overview\n",
        "\n",
        "In this section, we delve into preliminary data exploration to understand our dataset's structure and quality better. Key areas of focus include:\n",
        "\n",
        "- **Dataset Structure**: Examining the dimensions of the data (rows and columns).\n",
        "- **Data Types**: Identifying the type of data each column holds.\n",
        "- **Missing Values**: Investigating the presence of any incomplete or missing data in the dataset.\n",
        "\n",
        "Post this initial analysis, we aim to extract insightful summaries:\n",
        "\n",
        "- **Rating Distribution Analysis**: Studying how ratings are distributed across the dataset.\n",
        "- **Count of Users and Products**: Quantifying the total number of unique users and products in our dataset.\n",
        "- **Top Reviewers**: Identifying users who have provided the most ratings.\n",
        "\n",
        "This exploratory phase is crucial for guiding further data processing and analysis steps."
      ],
      "metadata": {
        "id": "tbUt2ZCcm2PZ"
      }
    },
    {
      "cell_type": "markdown",
      "source": [
        "### Shape"
      ],
      "metadata": {
        "id": "P31sJRBKm7Ox"
      }
    },
    {
      "cell_type": "code",
      "source": [
        "# Code to determine and print the dimensions of a DataFrame\n",
        "\n",
        "# Assuming 'dataframe' is your DataFrame variable\n",
        "row_count, column_count = dataframe.shape\n",
        "\n",
        "# Displaying the number of rows and columns\n",
        "print(f\"Number of Rows: {row_count}\")\n",
        "print(f\"Number of Columns: {column_count}\")"
      ],
      "metadata": {
        "colab": {
          "base_uri": "https://localhost:8080/"
        },
        "id": "BR0rkn1hm5Ii",
        "outputId": "b725b51e-a8d4-4786-c853-aaeb70a2da9b"
      },
      "execution_count": null,
      "outputs": [
        {
          "output_type": "stream",
          "name": "stdout",
          "text": [
            "No of rows =  7824482\n",
            "No of columns =  3\n"
          ]
        }
      ]
    },
    {
      "cell_type": "markdown",
      "source": [
        "### Datatypes"
      ],
      "metadata": {
        "id": "BR_AWE5dm-Aw"
      }
    },
    {
      "cell_type": "code",
      "source": [
        "df.info()"
      ],
      "metadata": {
        "colab": {
          "base_uri": "https://localhost:8080/"
        },
        "id": "VSZphiYsnB7h",
        "outputId": "32ed764d-62be-4b8b-b83a-942128032636"
      },
      "execution_count": null,
      "outputs": [
        {
          "output_type": "stream",
          "name": "stdout",
          "text": [
            "<class 'pandas.core.frame.DataFrame'>\n",
            "RangeIndex: 7824482 entries, 0 to 7824481\n",
            "Data columns (total 3 columns):\n",
            " #   Column   Dtype  \n",
            "---  ------   -----  \n",
            " 0   user_id  object \n",
            " 1   prod_id  object \n",
            " 2   rating   float64\n",
            "dtypes: float64(1), object(2)\n",
            "memory usage: 179.1+ MB\n"
          ]
        }
      ]
    },
    {
      "cell_type": "markdown",
      "source": [
        "### Missing value analysis"
      ],
      "metadata": {
        "id": "nMpYlCbKm__h"
      }
    },
    {
      "cell_type": "code",
      "source": [
        "# Find number of missing values in each column\n",
        "df.isna().sum()"
      ],
      "metadata": {
        "id": "TmDkgSH-nG-w"
      },
      "execution_count": null,
      "outputs": []
    },
    {
      "cell_type": "markdown",
      "source": [
        "### Summary"
      ],
      "metadata": {
        "id": "NuapKpPOnIxg"
      }
    },
    {
      "cell_type": "code",
      "source": [
        "# Summary statistics of 'rating' variable\n",
        "df['rating'].describe()"
      ],
      "metadata": {
        "id": "GykhgQNpnLB4"
      },
      "execution_count": null,
      "outputs": []
    },
    {
      "cell_type": "markdown",
      "source": [
        "### Rating distribution"
      ],
      "metadata": {
        "id": "qITdLlQenOL5"
      }
    },
    {
      "cell_type": "code",
      "source": [
        "#Create the plot and provide observations\n",
        "\n",
        "plt.figure(figsize = (12,6))\n",
        "df['rating'].value_counts(1).plot(kind='bar')\n",
        "plt.show()"
      ],
      "metadata": {
        "colab": {
          "base_uri": "https://localhost:8080/",
          "height": 530
        },
        "id": "UGyEWlm9nN0Y",
        "outputId": "ac6635fd-e22a-4132-f6bd-9ad76a3cca48"
      },
      "execution_count": null,
      "outputs": [
        {
          "output_type": "display_data",
          "data": {
            "text/plain": [
              "<Figure size 1200x600 with 1 Axes>"
            ],
            "image/png": "[encoded data removed]"
          },
          "metadata": {}
        }
      ]
    },
    {
      "cell_type": "markdown",
      "source": [
        "The distribution is skewed to the right. Over 50% of the ratings are 5, followed by a little below 20% with 4 star ratings. And the percentages of ratings keep going down until below 10% of the ratings are 2 stars."
      ],
      "metadata": {
        "id": "EyqB_PZOnbNq"
      }
    },
    {
      "cell_type": "markdown",
      "source": [
        "### No of unique users and items"
      ],
      "metadata": {
        "id": "_hoBfcSmncDJ"
      }
    },
    {
      "cell_type": "code",
      "source": [
        "# Code to print the number of unique user IDs and store IDs\n",
        "\n",
        "# Assuming 'dataframe' is your DataFrame variable and it contains columns 'user_id' and 'store_id'\n",
        "unique_users = dataframe['user_id'].nunique()\n",
        "unique_stores = dataframe['store_id'].nunique()\n",
        "\n",
        "# Displaying the number of unique users and stores\n",
        "print(f\"Number of Unique Users in the Data: {unique_users}\")\n",
        "print(f\"Number of Unique Stores in the Data: {unique_stores}\")\n",
        "\n",
        "# This code snippet assumes you have a DataFrame named 'dataframe' with the required columns."
      ],
      "metadata": {
        "id": "jArkNEWjPQys"
      },
      "execution_count": null,
      "outputs": []
    },
    {
      "cell_type": "markdown",
      "source": [
        "### Users with most no of rating"
      ],
      "metadata": {
        "id": "PhOahvbHnkZJ"
      }
    },
    {
      "cell_type": "code",
      "source": [
        "# Code to find the top 10 users based on the number of ratings\n",
        "\n",
        "# Assuming 'data' is your DataFrame and it contains a column named 'user_id'\n",
        "# Grouping the data by 'user_id' and counting the number of ratings per user\n",
        "top_raters = data.groupby('user_id').size().sort_values(ascending=False).head(10)\n",
        "\n",
        "# Displaying the top 10 users based on the number of ratings\n",
        "top_raters"
      ],
      "metadata": {
        "id": "DZ80koFAngO4"
      },
      "execution_count": null,
      "outputs": []
    },
    {
      "cell_type": "markdown",
      "source": [
        "## Pre-Processing\n",
        "\n",
        "Let's take a subset of the dataset (by only keeping the users who have given 50 or more ratings) to make the dataset less sparse and easy to work with."
      ],
      "metadata": {
        "id": "ekGg2mL5oaNA"
      }
    },
    {
      "cell_type": "code",
      "source": [
        "counts = df['user_id'].value_counts()\n",
        "df_final = df[df['user_id'].isin(counts[counts >= 50].index)]"
      ],
      "metadata": {
        "id": "k3T1weHIodDw"
      },
      "execution_count": null,
      "outputs": []
    },
    {
      "cell_type": "code",
      "source": [
        "print('The number of observations in the final data =', len(df_final))\n",
        "print('Number of unique USERS in the final data = ', df_final['user_id'].nunique())\n",
        "print('Number of unique STORES in the final data = ', df_final['prod_id'].nunique())"
      ],
      "metadata": {
        "id": "f1QLMmH7QSBW"
      },
      "execution_count": null,
      "outputs": []
    },
    {
      "cell_type": "markdown",
      "source": [
        "- The dataframe **df_final has users who have rated 50 or more items**\n",
        "- **We will use df_final to build recommendation systems**"
      ],
      "metadata": {
        "id": "tsmGpFwqocrg"
      }
    },
    {
      "cell_type": "markdown",
      "source": [
        "### Checking the density of the rating matrix"
      ],
      "metadata": {
        "id": "k6t4Ee-Oo0vD"
      }
    },
    {
      "cell_type": "code",
      "source": [
        "#Creating the interaction matrix of products and users based on ratings and replacing NaN value with 0\n",
        "final_ratings_matrix = df_final.pivot(index = 'user_id', columns ='prod_id', values = 'rating').fillna(0)\n",
        "print('Shape of final_ratings_matrix: ', final_ratings_matrix.shape)\n",
        "\n",
        "#Finding the number of non-zero entries in the interaction matrix\n",
        "given_num_of_ratings = np.count_nonzero(final_ratings_matrix)\n",
        "print('given_num_of_ratings = ', given_num_of_ratings)\n",
        "\n",
        "#Finding the possible number of ratings as per the number of users and products\n",
        "possible_num_of_ratings = final_ratings_matrix.shape[0] * final_ratings_matrix.shape[1]\n",
        "print('possible_num_of_ratings = ', possible_num_of_ratings)\n",
        "\n",
        "#Density of ratings\n",
        "density = (given_num_of_ratings/possible_num_of_ratings)\n",
        "density *= 100\n",
        "print ('density: {:4.2f}%'.format(density))\n",
        "\n",
        "final_ratings_matrix.head()"
      ],
      "metadata": {
        "id": "Q3kGwNuyoxiR"
      },
      "execution_count": null,
      "outputs": []
    },
    {
      "cell_type": "markdown",
      "source": [
        "# Rank Based Recommendation System"
      ],
      "metadata": {
        "id": "7dzfbm7tw1YJ"
      }
    },
    {
      "cell_type": "code",
      "source": [
        "#Calculate the average rating for each product\n",
        "average_rating = df_final.groupby('prod_id').mean()['rating']\n",
        "\n",
        "#Calculate the count of ratings for each product\n",
        "count_rating = df_final.groupby('prod_id').count()['rating']\n",
        "\n",
        "#Create a dataframe with calculated average and count of ratings\n",
        "final_rating = pd.DataFrame({'avg_rating':average_rating, 'rating_count':count_rating})\n",
        "\n",
        "#Sort the dataframe by average of ratings\n",
        "final_rating = final_rating.sort_values(by='avg_rating',ascending=False)\n",
        "\n",
        "final_rating.head()"
      ],
      "metadata": {
        "id": "me4iOm2ow9Yx"
      },
      "execution_count": null,
      "outputs": []
    },
    {
      "cell_type": "code",
      "source": [
        "#defining a function to get the top n products based on highest average rating and minimum interactions\n",
        "def top_n_products(final_rating, n, min_interaction):\n",
        "\n",
        "    #Finding products with minimum number of interactions\n",
        "    recommendations = final_rating[final_rating['rating_count']>min_interaction]\n",
        "\n",
        "    #Sorting values w.r.t average rating\n",
        "    recommendations = recommendations.sort_values('avg_rating',ascending=False)\n",
        "\n",
        "    return recommendations.index[:n]"
      ],
      "metadata": {
        "id": "OhUAXTtgw-8Q"
      },
      "execution_count": null,
      "outputs": []
    },
    {
      "cell_type": "markdown",
      "source": [
        "## Recommending top 5 products with 100 minimum interactions based on popularity"
      ],
      "metadata": {
        "id": "1dMFKudcxJW5"
      }
    },
    {
      "cell_type": "code",
      "source": [
        "list(top_n_products(final_rating, 5, 100))"
      ],
      "metadata": {
        "id": "-3lUEc76xL_Y"
      },
      "execution_count": null,
      "outputs": []
    },
    {
      "cell_type": "markdown",
      "source": [
        "# Collaborative Filtering based Recommendation System"
      ],
      "metadata": {
        "id": "2ykt7MfyXw1d"
      }
    },
    {
      "cell_type": "markdown",
      "source": [
        "## User based collaborative filtering"
      ],
      "metadata": {
        "id": "hXdPQ-0PcUVE"
      }
    },
    {
      "cell_type": "code",
      "source": [
        "final_ratings_matrix.head()"
      ],
      "metadata": {
        "id": "jVP_TvuqX17T"
      },
      "execution_count": null,
      "outputs": []
    },
    {
      "cell_type": "markdown",
      "source": [
        "Here, user_id (index) is of the object data type. We will replace the user_id by numbers starting from 0 to 1539 (for all user ids) so that the index is of integer type and represents a user id in the same format"
      ],
      "metadata": {
        "id": "JVADHXQHX7_S"
      }
    },
    {
      "cell_type": "code",
      "source": [
        "final_ratings_matrix['user_index'] = np.arange(0, final_ratings_matrix.shape[0])\n",
        "final_ratings_matrix.set_index(['user_index'], inplace=True)\n",
        "\n",
        "# Actual ratings given by users\n",
        "final_ratings_matrix.head()"
      ],
      "metadata": {
        "id": "CFAS5YaPX9aD"
      },
      "execution_count": null,
      "outputs": []
    },
    {
      "cell_type": "markdown",
      "source": [
        "### Function to find Similar users and their similarity scores"
      ],
      "metadata": {
        "id": "XF4rlGcsb8-D"
      }
    },
    {
      "cell_type": "code",
      "source": [
        "def find_similar_users(user_id, matrix):\n",
        "    user_similarity_scores = []\n",
        "    for other_user in range(matrix.shape[0]):\n",
        "        # Compute the cosine similarity between the input user and every other user\n",
        "        similarity = cosine_similarity([matrix.loc[user_id]], [matrix.loc[other_user]])\n",
        "\n",
        "        # Store the user ID and similarity score\n",
        "        user_similarity_scores.append((other_user, similarity[0][0]))\n",
        "\n",
        "    # Sort based on similarity scores in descending order\n",
        "    user_similarity_scores.sort(key=lambda x: x[1], reverse=True)\n",
        "\n",
        "    # Extracting user IDs and their corresponding similarity scores\n",
        "    similar_user_ids = [pair[0] for pair in user_similarity_scores]\n",
        "    scores = [pair[1] for pair in user_similarity_scores]\n",
        "\n",
        "    # Remove the original user's ID and score\n",
        "    similar_user_ids.remove(user_id)\n",
        "    scores.remove(scores[0])\n",
        "\n",
        "    return similar_user_ids, scores"
      ],
      "metadata": {
        "id": "OlJyXfxTX_I7"
      },
      "execution_count": null,
      "outputs": []
    },
    {
      "cell_type": "markdown",
      "source": [
        "#### Finding out top 10 similar users to the user index 3 and their similarity score"
      ],
      "metadata": {
        "id": "t8YQa3aSYDQc"
      }
    },
    {
      "cell_type": "code",
      "source": [
        "similar = find_similar_users(3,final_ratings_matrix)[0][0:10]\n",
        "similar"
      ],
      "metadata": {
        "id": "BevLPijqYFYK"
      },
      "execution_count": null,
      "outputs": []
    },
    {
      "cell_type": "code",
      "source": [
        "#Print the similarity score\n",
        "find_similar_users(3,final_ratings_matrix)[1][0:10]"
      ],
      "metadata": {
        "id": "GbbgcMaKYJXz"
      },
      "execution_count": null,
      "outputs": []
    },
    {
      "cell_type": "markdown",
      "source": [
        "#### Finding out top 10 similar users to the user index 1521 and their similarity score"
      ],
      "metadata": {
        "id": "ozHlmOBmYHeT"
      }
    },
    {
      "cell_type": "code",
      "source": [
        "similar = find_similar_users(1521, final_ratings_matrix)[0][0:10]\n",
        "similar"
      ],
      "metadata": {
        "id": "S8JFRg9XYPE8"
      },
      "execution_count": null,
      "outputs": []
    },
    {
      "cell_type": "code",
      "source": [
        "#Print the similarity score\n",
        "find_similar_users(1521,final_ratings_matrix)[1][0:10]"
      ],
      "metadata": {
        "id": "tsnilvK-YTST"
      },
      "execution_count": null,
      "outputs": []
    },
    {
      "cell_type": "markdown",
      "source": [
        "### Function to recommend products"
      ],
      "metadata": {
        "id": "qXSJzV0EcFcC"
      }
    },
    {
      "cell_type": "code",
      "source": [
        "# defining the recommendations function to get recommendations by using the similar users' preferences\n",
        "def recommendations(user_index, num_of_products, interactions_matrix):\n",
        "\n",
        "    #Saving similar users using the function similar_users defined above\n",
        "    most_similar_users = similar_users(user_index, interactions_matrix)[0]\n",
        "\n",
        "    #Finding product IDs with which the user_id has interacted\n",
        "    prod_ids = set(list(interactions_matrix.columns[np.where(interactions_matrix.loc[user_index] > 0)]))\n",
        "    recommendations = []\n",
        "\n",
        "    observed_interactions = prod_ids.copy()\n",
        "    for similar_user in most_similar_users:\n",
        "        if len(recommendations) < num_of_products:\n",
        "\n",
        "            #Finding 'n' products which have been rated by similar users but not by the user_id\n",
        "            similar_user_prod_ids = set(list(interactions_matrix.columns[np.where(interactions_matrix.loc[similar_user] > 0)]))\n",
        "            recommendations.extend(list(similar_user_prod_ids.difference(observed_interactions)))\n",
        "            observed_interactions = observed_interactions.union(similar_user_prod_ids)\n",
        "        else:\n",
        "            break\n",
        "\n",
        "    return recommendations[:num_of_products]"
      ],
      "metadata": {
        "id": "uq6Wzl1kYX3U"
      },
      "execution_count": null,
      "outputs": []
    },
    {
      "cell_type": "markdown",
      "source": [
        "#### Recommend 5 products to user index 3 based on similarity based collaborative filtering"
      ],
      "metadata": {
        "id": "p6IzV6fTYbhW"
      }
    },
    {
      "cell_type": "code",
      "source": [
        "recommendations(3,5,final_ratings_matrix)"
      ],
      "metadata": {
        "colab": {
          "base_uri": "https://localhost:8080/"
        },
        "id": "KBF7-RKIYcVL",
        "outputId": "38957d77-0e8e-419a-e958-2e4e835d49ed"
      },
      "execution_count": null,
      "outputs": [
        {
          "output_type": "execute_result",
          "data": {
            "text/plain": [
              "['B001TAAVP4', 'B0016E5X5Q', 'B0054U6CEE', 'B00006IW1X', 'B000HWVOFQ']"
            ]
          },
          "metadata": {},
          "execution_count": 52
        }
      ]
    },
    {
      "cell_type": "markdown",
      "source": [
        "# Model based Collaborative Filtering: Singular Value Decomposition\n",
        "\n",
        "**We have seen above that the interaction matrix is highly sparse. SVD is best to apply on a large sparse matrix. Note that for sparse matrices, we can use the sparse.linalg.svds() function to perform the decomposition**\n",
        "\n",
        "Also, we will use **k=50 latent features** to predict rating of products"
      ],
      "metadata": {
        "id": "B9fOdRwUdbKa"
      }
    },
    {
      "cell_type": "markdown",
      "source": [
        "## CSR matrix"
      ],
      "metadata": {
        "id": "RXgHZdNYmoKD"
      }
    },
    {
      "cell_type": "code",
      "source": [
        "from scipy.sparse import csr_matrix\n",
        "final_ratings_sparse = csr_matrix(final_ratings_matrix.values)\n"
      ],
      "metadata": {
        "id": "6yHPX6rkfeY8"
      },
      "execution_count": null,
      "outputs": []
    },
    {
      "cell_type": "markdown",
      "source": [
        "## SVD"
      ],
      "metadata": {
        "id": "K2oQ3Fjlmrs7"
      }
    },
    {
      "cell_type": "code",
      "source": [
        "# Singular Value Decomposition\n",
        "U, s, Vt = svds(final_ratings_sparse, k = 50) # here k is the number of latent features\n",
        "\n",
        "# Construct diagonal array in SVD\n",
        "sigma = np.diag(s)"
      ],
      "metadata": {
        "id": "D8BDZzhXdhKa"
      },
      "execution_count": null,
      "outputs": []
    },
    {
      "cell_type": "code",
      "source": [
        "U.shape"
      ],
      "metadata": {
        "colab": {
          "base_uri": "https://localhost:8080/"
        },
        "id": "IqVjx_ebfkZD",
        "outputId": "412703cf-e6c6-4322-d1e3-5e45d2a27957"
      },
      "execution_count": null,
      "outputs": [
        {
          "output_type": "execute_result",
          "data": {
            "text/plain": [
              "(1540, 50)"
            ]
          },
          "metadata": {},
          "execution_count": 127
        }
      ]
    },
    {
      "cell_type": "code",
      "source": [
        "sigma.shape"
      ],
      "metadata": {
        "colab": {
          "base_uri": "https://localhost:8080/"
        },
        "id": "i0pbUMYXfnvq",
        "outputId": "af7129f1-371e-454e-80dc-66f960870ef9"
      },
      "execution_count": null,
      "outputs": [
        {
          "output_type": "execute_result",
          "data": {
            "text/plain": [
              "(50, 50)"
            ]
          },
          "metadata": {},
          "execution_count": 128
        }
      ]
    },
    {
      "cell_type": "code",
      "source": [
        "Vt.shape"
      ],
      "metadata": {
        "colab": {
          "base_uri": "https://localhost:8080/"
        },
        "id": "9eK_VGtwfoRJ",
        "outputId": "9d84b451-249f-4951-9f17-354e3178da9d"
      },
      "execution_count": null,
      "outputs": [
        {
          "output_type": "execute_result",
          "data": {
            "text/plain": [
              "(50, 48190)"
            ]
          },
          "metadata": {},
          "execution_count": 129
        }
      ]
    },
    {
      "cell_type": "markdown",
      "source": [
        "Now, let's regenerate the original matrix using U, Sigma, and Vt matrices. The resulting matrix would be the predicted ratings for all users and products"
      ],
      "metadata": {
        "id": "FSE_KKudftuk"
      }
    },
    {
      "cell_type": "markdown",
      "source": [
        "## Predicting ratings"
      ],
      "metadata": {
        "id": "BVnvgQkwmvfL"
      }
    },
    {
      "cell_type": "code",
      "source": [
        "all_user_predicted_ratings = np.dot(np.dot(U, sigma), Vt)\n",
        "\n",
        "# Predicted ratings\n",
        "preds_df = pd.DataFrame(abs(all_user_predicted_ratings), columns = final_ratings_matrix.columns)\n",
        "preds_df.head()\n",
        "preds_matrix = csr_matrix(preds_df.values)"
      ],
      "metadata": {
        "id": "hURsS2H3fuby"
      },
      "execution_count": null,
      "outputs": []
    },
    {
      "cell_type": "markdown",
      "source": [
        "## Function to recommend products"
      ],
      "metadata": {
        "id": "jRS4Fndbfx-c"
      }
    },
    {
      "cell_type": "code",
      "source": [
        "def get_recommendations(user_id, number_of_items, user_item_matrix):\n",
        "    # Get similar users from the previously defined function\n",
        "    similar_users_list = find_similar_users(user_id, user_item_matrix)[0]\n",
        "\n",
        "    # Retrieve items that the input user has already interacted with\n",
        "    user_items = set(user_item_matrix.columns[user_item_matrix.loc[user_id] > 0])\n",
        "    recommended_items = []\n",
        "\n",
        "    # Keeping track of items that have already been considered\n",
        "    considered_items = user_items.copy()\n",
        "\n",
        "    for user in similar_users_list:\n",
        "        if len(recommended_items) < number_of_items:\n",
        "            # Identify items rated by similar users but not by the input user\n",
        "            items_from_similar = set(user_item_matrix.columns[user_item_matrix.loc[user] > 0])\n",
        "            new_recommendations = items_from_similar - considered_items\n",
        "            recommended_items.extend(new_recommendations)\n",
        "\n",
        "            # Update the considered items\n",
        "            considered_items.update(items_from_similar)\n",
        "        else:\n",
        "            break\n",
        "\n",
        "    # Return the top 'number_of_items' recommendations\n",
        "    return recommended_items[:number_of_items]"
      ],
      "metadata": {
        "id": "IMI2d1sXiILL"
      },
      "execution_count": null,
      "outputs": []
    },
    {
      "cell_type": "markdown",
      "source": [
        "### Recommending top 5 products to user id 121"
      ],
      "metadata": {
        "id": "ni3knh42f5qa"
      }
    },
    {
      "cell_type": "code",
      "source": [
        "#Enter 'user index' and 'num_recommendations' for the user\n",
        "recommend_items(121,final_ratings_sparse,preds_matrix,5)"
      ],
      "metadata": {
        "id": "IxLbE4G6f80b"
      },
      "execution_count": null,
      "outputs": []
    },
    {
      "cell_type": "markdown",
      "source": [
        "## Evaluating the model"
      ],
      "metadata": {
        "id": "th5-d8wFmD9r"
      }
    },
    {
      "cell_type": "code",
      "source": [
        "final_ratings_matrix['user_index'] = np.arange(0, final_ratings_matrix.shape[0])\n",
        "final_ratings_matrix.set_index(['user_index'], inplace=True)\n",
        "\n",
        "# Actual ratings given by users\n",
        "final_ratings_matrix.head()"
      ],
      "metadata": {
        "id": "iZYhmD6hmEPz"
      },
      "execution_count": null,
      "outputs": []
    },
    {
      "cell_type": "code",
      "source": [
        "average_rating = final_ratings_matrix.mean()\n",
        "average_rating.head()"
      ],
      "metadata": {
        "id": "3cTXMcS0mNni"
      },
      "execution_count": null,
      "outputs": []
    },
    {
      "cell_type": "code",
      "source": [
        "preds_df.head()"
      ],
      "metadata": {
        "id": "-QoOy6c2mQIj"
      },
      "execution_count": null,
      "outputs": []
    },
    {
      "cell_type": "code",
      "source": [
        "avg_preds=preds_df.mean()\n",
        "avg_preds.head()"
      ],
      "metadata": {
        "id": "r19iVskYmTSV"
      },
      "execution_count": null,
      "outputs": []
    },
    {
      "cell_type": "code",
      "source": [
        "rmse_df = pd.concat([average_rating, avg_preds], axis=1)\n",
        "\n",
        "rmse_df.columns = ['Avg_actual_ratings', 'Avg_predicted_ratings']\n",
        "\n",
        "rmse_df.head()"
      ],
      "metadata": {
        "id": "5Aeap4h2mVTM"
      },
      "execution_count": null,
      "outputs": []
    },
    {
      "cell_type": "code",
      "source": [
        "RMSE=mean_squared_error(rmse_df['Avg_actual_ratings'], rmse_df['Avg_predicted_ratings'], squared=False)\n",
        "print(f'RMSE SVD Model = {RMSE} \\n')"
      ],
      "metadata": {
        "id": "l9HPwqQwmWoq"
      },
      "execution_count": null,
      "outputs": []
    }
  ]
}