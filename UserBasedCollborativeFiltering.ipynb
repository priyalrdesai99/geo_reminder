{
  "nbformat": 4,
  "nbformat_minor": 0,
  "metadata": {
    "colab": {
      "provenance": [],
      "collapsed_sections": [
        "7dzfbm7tw1YJ"
      ],
      "gpuType": "T4"
    },
    "kernelspec": {
      "name": "python3",
      "display_name": "Python 3"
    },
    "language_info": {
      "name": "python"
    },
    "accelerator": "GPU",
    "gpuClass": "standard"
  },
  "cells": [
    {
      "cell_type": "markdown",
      "source": [
        "#Stores Recommendation System"
      ],
      "metadata": {
        "id": "EdILuyLgml_R"
      }
    },
    {
      "cell_type": "markdown",
      "source": [
        "#Libraries Import"
      ],
      "metadata": {
        "id": "m-26iTTympFi"
      }
    },
    {
      "cell_type": "code",
      "source": [],
      "metadata": {
        "id": "-Ctky6QsSEzq"
      },
      "execution_count": null,
      "outputs": []
    },
    {
      "cell_type": "code",
      "source": [
        "# Suppressing warnings for cleaner output\n",
        "import warnings\n",
        "warnings.simplefilter(action='ignore', category=FutureWarning)\n",
        "\n",
        "# Importing essential data handling libraries\n",
        "import pandas as pd\n",
        "import numpy as np\n",
        "\n",
        "# Importing visualization tools\n",
        "import matplotlib.pyplot as plt\n",
        "import seaborn as sns\n",
        "\n",
        "# Machine learning utilities\n",
        "from sklearn.metrics import mean_squared_error\n",
        "from sklearn.metrics.pairwise import cosine_similarity\n",
        "\n",
        "# Set the aesthetic style of the plots\n",
        "sns.set_style(\"whitegrid\")"
      ],
      "metadata": {
        "id": "2tSOMad1mlsK"
      },
      "execution_count": null,
      "outputs": []
    },
    {
      "cell_type": "markdown",
      "source": [
        "## Importing Dataset"
      ],
      "metadata": {
        "id": "_eRqhkyAmvFJ"
      }
    },
    {
      "cell_type": "code",
      "execution_count": null,
      "metadata": {
        "id": "mnM0NIFemhh0"
      },
      "outputs": [],
      "source": [
        "# Loading the dataset\n",
        "import pandas as pd\n",
        "\n",
        "# Path to the dataset\n",
        "file_path = '/content/drive/MyDrive/ratings_stores.csv'\n",
        "\n",
        "# Reading the data without headers\n",
        "store_ratings = pd.read_csv(file_path, header=None)\n",
        "\n",
        "# Assigning new column labels\n",
        "store_ratings.columns = ['UserID', 'StoreID', 'Rating', 'Timestamp']\n",
        "\n",
        "# Removing the Timestamp column as it's not needed for our analysis\n",
        "store_ratings.drop(columns=['Timestamp'], inplace=True)\n",
        "\n",
        "# Creating a backup of the DataFrame for further use\n",
        "ratings_backup = store_ratings.copy()\n"
      ]
    },
    {
      "cell_type": "markdown",
      "source": [
        "## Exploratory Data Analysis Overview\n",
        "\n",
        "In this section, we delve into preliminary data exploration to understand our dataset's structure and quality better. Key areas of focus include:\n",
        "\n",
        "- **Dataset Structure**: Examining the dimensions of the data (rows and columns).\n",
        "- **Data Types**: Identifying the type of data each column holds.\n",
        "- **Missing Values**: Investigating the presence of any incomplete or missing data in the dataset.\n",
        "\n",
        "Post this initial analysis, we aim to extract insightful summaries:\n",
        "\n",
        "- **Rating Distribution Analysis**: Studying how ratings are distributed across the dataset.\n",
        "- **Count of Users and Products**: Quantifying the total number of unique users and products in our dataset.\n",
        "- **Top Reviewers**: Identifying users who have provided the most ratings.\n",
        "\n",
        "This exploratory phase is crucial for guiding further data processing and analysis steps."
      ],
      "metadata": {
        "id": "tbUt2ZCcm2PZ"
      }
    },
    {
      "cell_type": "markdown",
      "source": [
        "### Shape"
      ],
      "metadata": {
        "id": "P31sJRBKm7Ox"
      }
    },
    {
      "cell_type": "code",
      "source": [
        "# Code to determine and print the dimensions of a DataFrame\n",
        "\n",
        "# Assuming 'dataframe' is your DataFrame variable\n",
        "row_count, column_count = dataframe.shape\n",
        "\n",
        "# Displaying the number of rows and columns\n",
        "print(f\"Number of Rows: {row_count}\")\n",
        "print(f\"Number of Columns: {column_count}\")"
      ],
      "metadata": {
        "colab": {
          "base_uri": "https://localhost:8080/"
        },
        "id": "BR0rkn1hm5Ii",
        "outputId": "82d7eac2-4c5f-48b4-e651-1ddb369556d5"
      },
      "execution_count": null,
      "outputs": [
        {
          "output_type": "stream",
          "name": "stdout",
          "text": [
            "No of rows =  7824482\n",
            "No of columns =  3\n"
          ]
        }
      ]
    },
    {
      "cell_type": "markdown",
      "source": [
        "### Datatypes"
      ],
      "metadata": {
        "id": "BR_AWE5dm-Aw"
      }
    },
    {
      "cell_type": "code",
      "source": [
        "df.info()"
      ],
      "metadata": {
        "id": "VSZphiYsnB7h"
      },
      "execution_count": null,
      "outputs": []
    },
    {
      "cell_type": "markdown",
      "source": [
        "### Missing value analysis"
      ],
      "metadata": {
        "id": "nMpYlCbKm__h"
      }
    },
    {
      "cell_type": "code",
      "source": [
        "# Find number of missing values in each column\n",
        "df.isna().sum()"
      ],
      "metadata": {
        "id": "TmDkgSH-nG-w"
      },
      "execution_count": null,
      "outputs": []
    },
    {
      "cell_type": "markdown",
      "source": [
        "### Summary"
      ],
      "metadata": {
        "id": "NuapKpPOnIxg"
      }
    },
    {
      "cell_type": "code",
      "source": [
        "# Summary statistics of 'rating' variable\n",
        "df['rating'].describe()"
      ],
      "metadata": {
        "id": "GykhgQNpnLB4"
      },
      "execution_count": null,
      "outputs": []
    },
    {
      "cell_type": "markdown",
      "source": [
        "### Rating distribution"
      ],
      "metadata": {
        "id": "qITdLlQenOL5"
      }
    },
    {
      "cell_type": "code",
      "source": [
        "# Code to create a bar plot for rating distribution\n",
        "\n",
        "import matplotlib.pyplot as plt\n",
        "\n",
        "# Assuming 'data' is your DataFrame and it contains a column named 'rating'\n",
        "plt.figure(figsize=(12, 6))  # Setting the figure size for the plot\n",
        "\n",
        "# Creating a bar plot of the normalized value counts of the 'rating' column\n",
        "data['rating'].value_counts(normalize=True).plot(kind='bar', color='skyblue')  # Added color for a different look\n",
        "\n",
        "# Displaying the plot\n",
        "plt.show()\n"
      ],
      "metadata": {
        "id": "UGyEWlm9nN0Y"
      },
      "execution_count": null,
      "outputs": []
    },
    {
      "cell_type": "markdown",
      "source": [
        "### No of unique users and items"
      ],
      "metadata": {
        "id": "_hoBfcSmncDJ"
      }
    },
    {
      "cell_type": "code",
      "source": [
        "# Code to print the number of unique user IDs and store IDs\n",
        "\n",
        "# Assuming 'dataframe' is your DataFrame variable and it contains columns 'user_id' and 'store_id'\n",
        "unique_users = dataframe['user_id'].nunique()\n",
        "unique_stores = dataframe['store_id'].nunique()\n",
        "\n",
        "# Displaying the number of unique users and stores\n",
        "print(f\"Number of Unique Users in the Data: {unique_users}\")\n",
        "print(f\"Number of Unique Stores in the Data: {unique_stores}\")\n",
        "\n",
        "# This code snippet assumes you have a DataFrame named 'dataframe' with the required columns."
      ],
      "metadata": {
        "colab": {
          "base_uri": "https://localhost:8080/"
        },
        "id": "nOpDpLXtRAHm",
        "outputId": "9c0fbf59-4831-4b08-e750-537b9b15988b"
      },
      "execution_count": null,
      "outputs": [
        {
          "output_type": "stream",
          "name": "stdout",
          "text": [
            "Number of unique USERS in Raw data = 4201696\n",
            "Number of unique STORES in Raw data = 476002\n"
          ]
        }
      ]
    },
    {
      "cell_type": "markdown",
      "source": [
        "### Users with most no of rating"
      ],
      "metadata": {
        "id": "PhOahvbHnkZJ"
      }
    },
    {
      "cell_type": "code",
      "source": [
        "# Top 10 users based on rating\n",
        "most_rated = df.groupby('user_id').size().sort_values(ascending=False)[:10]\n",
        "most_rated"
      ],
      "metadata": {
        "id": "DZ80koFAngO4"
      },
      "execution_count": null,
      "outputs": []
    },
    {
      "cell_type": "markdown",
      "source": [
        "## Pre-Processing"
      ],
      "metadata": {
        "id": "ekGg2mL5oaNA"
      }
    },
    {
      "cell_type": "code",
      "source": [
        "# Assuming 'data' is your DataFrame and it contains a column named 'user_id'\n",
        "# Counting the frequency of each user_id\n",
        "user_interaction_counts = data['user_id'].value_counts()\n",
        "\n",
        "# Filtering to include only users with 50 or more interactions\n",
        "filtered_data = data[data['user_id'].isin(user_interaction_counts[user_interaction_counts >= 50].index)]\n"
      ],
      "metadata": {
        "id": "k3T1weHIodDw"
      },
      "execution_count": null,
      "outputs": []
    },
    {
      "cell_type": "code",
      "source": [
        "# Code to print the number of observations, unique user IDs, and unique store IDs in a DataFrame\n",
        "\n",
        "# Assuming 'dataframe' is your DataFrame variable and it contains columns 'user_id' and 'store_id'\n",
        "observations_final_count = len(dataframe)\n",
        "unique_users_final_count = dataframe['user_id'].nunique()\n",
        "unique_stores_final_count = dataframe['store_id'].nunique()\n",
        "\n",
        "# Displaying the information\n",
        "print(f\"Number of Observations in the Final Data: {observations_final_count}\")\n",
        "print(f\"Number of Unique Users in the Final Data: {unique_users_final_count}\")\n",
        "print(f\"Number of Unique Stores in the Final Data: {unique_stores_final_count}\")"
      ],
      "metadata": {
        "id": "KDnxTiwUordB"
      },
      "execution_count": null,
      "outputs": []
    },
    {
      "cell_type": "markdown",
      "source": [
        "- The dataframe **df_final has users who have rated 50 or more items**\n",
        "- **We will use df_final to build recommendation systems**"
      ],
      "metadata": {
        "id": "tsmGpFwqocrg"
      }
    },
    {
      "cell_type": "markdown",
      "source": [
        "### Checking the density of the rating matrix"
      ],
      "metadata": {
        "id": "k6t4Ee-Oo0vD"
      }
    },
    {
      "cell_type": "code",
      "source": [
        "#Creating the interaction matrix of products and users based on ratings and replacing NaN value with 0\n",
        "final_ratings_matrix = df_final.pivot(index = 'user_id', columns ='prod_id', values = 'rating').fillna(0)\n",
        "print('Shape of final_ratings_matrix: ', final_ratings_matrix.shape)\n",
        "\n",
        "#Finding the number of non-zero entries in the interaction matrix\n",
        "given_num_of_ratings = np.count_nonzero(final_ratings_matrix)\n",
        "print('given_num_of_ratings = ', given_num_of_ratings)\n",
        "\n",
        "#Finding the possible number of ratings as per the number of users and products\n",
        "possible_num_of_ratings = final_ratings_matrix.shape[0] * final_ratings_matrix.shape[1]\n",
        "print('possible_num_of_ratings = ', possible_num_of_ratings)\n",
        "\n",
        "#Density of ratings\n",
        "density = (given_num_of_ratings/possible_num_of_ratings)\n",
        "density *= 100\n",
        "print ('density: {:4.2f}%'.format(density))\n",
        "\n",
        "final_ratings_matrix.head()"
      ],
      "metadata": {
        "id": "Q3kGwNuyoxiR"
      },
      "execution_count": null,
      "outputs": []
    },
    {
      "cell_type": "markdown",
      "source": [
        "# Collaborative Filtering based Recommendation System"
      ],
      "metadata": {
        "id": "2ykt7MfyXw1d"
      }
    },
    {
      "cell_type": "markdown",
      "source": [
        "## User based collaborative filtering"
      ],
      "metadata": {
        "id": "hXdPQ-0PcUVE"
      }
    },
    {
      "cell_type": "code",
      "source": [
        "final_ratings_matrix.head()"
      ],
      "metadata": {
        "id": "jVP_TvuqX17T"
      },
      "execution_count": null,
      "outputs": []
    },
    {
      "cell_type": "markdown",
      "source": [
        "Here, user_id (index) is of the object data type. We will replace the user_id by numbers so that the index is of integer type and represents a user id in the same format"
      ],
      "metadata": {
        "id": "JVADHXQHX7_S"
      }
    },
    {
      "cell_type": "code",
      "source": [
        "final_ratings_matrix['user_index'] = np.arange(0, final_ratings_matrix.shape[0])\n",
        "final_ratings_matrix.set_index(['user_index'], inplace=True)\n",
        "\n",
        "# Actual ratings given by users\n",
        "final_ratings_matrix.head()"
      ],
      "metadata": {
        "id": "CFAS5YaPX9aD"
      },
      "execution_count": null,
      "outputs": []
    },
    {
      "cell_type": "markdown",
      "source": [
        "### Function to find Similar users and their similarity scores"
      ],
      "metadata": {
        "id": "XF4rlGcsb8-D"
      }
    },
    {
      "cell_type": "code",
      "source": [
        "def find_similar_users(user_id, matrix):\n",
        "    user_similarity_scores = []\n",
        "    for other_user in range(matrix.shape[0]):\n",
        "        # Compute the cosine similarity between the input user and every other user\n",
        "        similarity = cosine_similarity([matrix.loc[user_id]], [matrix.loc[other_user]])\n",
        "\n",
        "        # Store the user ID and similarity score\n",
        "        user_similarity_scores.append((other_user, similarity[0][0]))\n",
        "\n",
        "    # Sort based on similarity scores in descending order\n",
        "    user_similarity_scores.sort(key=lambda x: x[1], reverse=True)\n",
        "\n",
        "    # Extracting user IDs and their corresponding similarity scores\n",
        "    similar_user_ids = [pair[0] for pair in user_similarity_scores]\n",
        "    scores = [pair[1] for pair in user_similarity_scores]\n",
        "\n",
        "    # Remove the original user's ID and score\n",
        "    similar_user_ids.remove(user_id)\n",
        "    scores.remove(scores[0])\n",
        "\n",
        "    return similar_user_ids, scores"
      ],
      "metadata": {
        "id": "OlJyXfxTX_I7"
      },
      "execution_count": null,
      "outputs": []
    },
    {
      "cell_type": "markdown",
      "source": [
        "#### Finding out top 10 similar users to the user index 3 and their similarity score"
      ],
      "metadata": {
        "id": "t8YQa3aSYDQc"
      }
    },
    {
      "cell_type": "code",
      "source": [
        "similar = find_similar_users(3,final_ratings_matrix)[0][0:10]\n",
        "similar"
      ],
      "metadata": {
        "id": "BevLPijqYFYK"
      },
      "execution_count": null,
      "outputs": []
    },
    {
      "cell_type": "code",
      "source": [
        "#Print the similarity score\n",
        "similar_users(3,final_ratings_matrix)[1][0:10]"
      ],
      "metadata": {
        "id": "GbbgcMaKYJXz"
      },
      "execution_count": null,
      "outputs": []
    },
    {
      "cell_type": "markdown",
      "source": [
        "#### Finding out top 10 similar users to the user and their similarity score"
      ],
      "metadata": {
        "id": "ozHlmOBmYHeT"
      }
    },
    {
      "cell_type": "code",
      "source": [
        "similar = find_similar_users(1289, final_ratings_matrix)[0][0:10]\n",
        "similar"
      ],
      "metadata": {
        "id": "S8JFRg9XYPE8"
      },
      "execution_count": null,
      "outputs": []
    },
    {
      "cell_type": "code",
      "source": [
        "#Print the similarity score\n",
        "find_similar_users(1289,final_ratings_matrix)[1][0:10]"
      ],
      "metadata": {
        "id": "tsnilvK-YTST"
      },
      "execution_count": null,
      "outputs": []
    },
    {
      "cell_type": "markdown",
      "source": [
        "### Function to recommend products"
      ],
      "metadata": {
        "id": "qXSJzV0EcFcC"
      }
    },
    {
      "cell_type": "code",
      "source": [
        "def get_recommendations(user_id, number_of_items, user_item_matrix):\n",
        "    # Get similar users from the previously defined function\n",
        "    similar_users_list = find_similar_users(user_id, user_item_matrix)[0]\n",
        "\n",
        "    # Retrieve items that the input user has already interacted with\n",
        "    user_items = set(user_item_matrix.columns[user_item_matrix.loc[user_id] > 0])\n",
        "    recommended_items = []\n",
        "\n",
        "    # Keeping track of items that have already been considered\n",
        "    considered_items = user_items.copy()\n",
        "\n",
        "    for user in similar_users_list:\n",
        "        if len(recommended_items) < number_of_items:\n",
        "            # Identify items rated by similar users but not by the input user\n",
        "            items_from_similar = set(user_item_matrix.columns[user_item_matrix.loc[user] > 0])\n",
        "            new_recommendations = items_from_similar - considered_items\n",
        "            recommended_items.extend(new_recommendations)\n",
        "\n",
        "            # Update the considered items\n",
        "            considered_items.update(items_from_similar)\n",
        "        else:\n",
        "            break\n",
        "\n",
        "    # Return the top 'number_of_items' recommendations\n",
        "    return recommended_items[:number_of_items]"
      ],
      "metadata": {
        "id": "uq6Wzl1kYX3U"
      },
      "execution_count": null,
      "outputs": []
    },
    {
      "cell_type": "markdown",
      "source": [
        "#### Recommend 5 products to user index 3 based on similarity based collaborative filtering"
      ],
      "metadata": {
        "id": "p6IzV6fTYbhW"
      }
    },
    {
      "cell_type": "code",
      "source": [
        "recommendations(3,5,final_ratings_matrix)"
      ],
      "metadata": {
        "colab": {
          "base_uri": "https://localhost:8080/"
        },
        "id": "KBF7-RKIYcVL",
        "outputId": "38957d77-0e8e-419a-e958-2e4e835d49ed"
      },
      "execution_count": null,
      "outputs": [
        {
          "output_type": "execute_result",
          "data": {
            "text/plain": [
              "['B001TAAVP4', 'B0016E5X5Q', 'B0054U6CEE', 'B00006IW1X', 'B000HWVOFQ']"
            ]
          },
          "metadata": {},
          "execution_count": 52
        }
      ]
    },
    {
      "cell_type": "markdown",
      "source": [
        "#### Recommend 5 products to user index 1521 based on similarity based collaborative filtering"
      ],
      "metadata": {
        "id": "pNxqmWlAYoiK"
      }
    },
    {
      "cell_type": "code",
      "source": [
        "recommendations(1289,5,final_ratings_matrix)"
      ],
      "metadata": {
        "colab": {
          "base_uri": "https://localhost:8080/"
        },
        "id": "Gs0zuFFQYpQi",
        "outputId": "319dcde7-75fd-4978-f790-3e2fc9cff683"
      },
      "execution_count": null,
      "outputs": [
        {
          "output_type": "execute_result",
          "data": {
            "text/plain": [
              "['B007X3VEUW', 'B005TDWUII', 'B0040XQ7PK', 'B009O7XGCY', 'B00A7PPLP2']"
            ]
          },
          "metadata": {},
          "execution_count": 53
        }
      ]
    }
  ]
}